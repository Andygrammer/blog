{
  "nbformat": 4,
  "nbformat_minor": 0,
  "metadata": {
    "colab": {
      "name": "2021-03-30-MyProjects.ipynb",
      "provenance": []
    },
    "kernelspec": {
      "name": "python3",
      "display_name": "Python 3"
    }
  },
  "cells": [
    {
      "cell_type": "markdown",
      "metadata": {
        "id": "z3_l8lP9ENnq",
        "colab_type": "text"
      },
      "source": [
        "# Portfolio Projects"
        ## 1. [Planted Forests in Brazil](https://andygrammer.github.io/blog/portfolio/projects/nature/regression/kfold/mse/2021/03/30/arvores-project.html) 
      ]
    }
  ]
}
