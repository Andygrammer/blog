{
  "nbformat": 4,
  "nbformat_minor": 0,
  "metadata": {
    "colab": {
      "name": "2020-09-24-Projects.ipynb",
      "provenance": []
    },
    "kernelspec": {
      "name": "python3",
      "display_name": "Python 3"
    }
  },
  "cells": [
    {
      "cell_type": "markdown",
      "metadata": {
        "id": "z3_l8lP9ENnq",
        "colab_type": "text"
      },
      "source": [
        "# Portfolio Projects - Coming Soon..."
      ]
    }
  ]
}