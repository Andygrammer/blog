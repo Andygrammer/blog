{
 "cells": [
  {
   "cell_type": "raw",
   "metadata": {},
   "source": [
    "# ---\n",
    "toc: true\n",
    "layout: post\n",
    "description: Forecast planted forests areas in Brazil \n",
    "categories: [portfolio, projects, nature, regression, kfold, mse]\n",
    "title: Project 1 - Planted Forests in Brazil\n",
    "---"
   ]
  },
  {
   "cell_type": "markdown",
   "metadata": {},
   "source": [
    "# Project 1 - Planted Forests in Brazil\n",
    "\n",
    "<img align=\"left\" src=\"https://i2.wp.com/treevia.com.br/wp-content/uploads/2020/08/website-blog-imagem-de-fundo.jpg\"/>"
   ]
  },
  {
   "cell_type": "markdown",
   "metadata": {},
   "source": [
    "**Type of project:** Machine Learning Project\n",
    "\n",
    "**Application:** Nature\n",
    "\n",
    "**Data source:** 2 CSV files\n",
    "\n",
    "**Nature of the data:** temporal series\n",
    "\n",
    "**Nature of this machine learning project:** Regression\n",
    "\n",
    "**Implemented models:** 1. AutoRegressive Integrated Moving Average (ARIMA); 2. Linear Regression\n",
    "\n",
    "**Model validation:** K-Fold\n",
    "\n",
    "**Metrics used:** Mean Squared Error (MSE), and Negative Root Mean Squared Error (NRMSE)\n",
    "\n",
    "**Project phases:**\n",
    "1. Business understanding\n",
    "2. Business question definition\n",
    "3. Data acquisition and understanding\n",
    "4. Data cleaning\n",
    "5. Exploratory Data Analysis (EDA)\n",
    "6. Modeling (training, test, evaluation)\n",
    "7. Prediction of new data\n",
    "\n",
    "## [Project link](https://github.com/Andygrammer/FlorestasPlantadas/blob/main/FlorestasPlantadas_Pred.ipynb) "
   ]
  }
 ],
 "metadata": {
  "kernelspec": {
   "display_name": "Python 3",
   "language": "python",
   "name": "python3"
  },
  "language_info": {
   "codemirror_mode": {
    "name": "ipython",
    "version": 3
   },
   "file_extension": ".py",
   "mimetype": "text/x-python",
   "name": "python",
   "nbconvert_exporter": "python",
   "pygments_lexer": "ipython3",
   "version": "3.8.3"
  }
 },
 "nbformat": 4,
 "nbformat_minor": 4
}
